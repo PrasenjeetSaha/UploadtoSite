{
 "cells": [
  {
   "cell_type": "code",
   "execution_count": 6,
   "metadata": {},
   "outputs": [],
   "source": [
    "import os\n",
    "import requests\n",
    "import pandas as pd\n",
    "import openpyxl\n",
    "from pathlib import Path\n"
   ]
  },
  {
   "cell_type": "code",
   "execution_count": 7,
   "metadata": {},
   "outputs": [],
   "source": [
    "folder_path = Path('C:/Users/Public/Documents')\n",
    "excel_file = 'links.xlsx'"
   ]
  },
  {
   "cell_type": "code",
   "execution_count": 8,
   "metadata": {},
   "outputs": [],
   "source": [
    "site = 'https://file.io/'\n"
   ]
  },
  {
   "cell_type": "code",
   "execution_count": 12,
   "metadata": {},
   "outputs": [
    {
     "name": "stdout",
     "output_type": "stream",
     "text": [
      "Uploaded text.pdf to https://file.io/: {\"success\":true,\"status\":200,\"id\":\"451d2960-5ff5-11ef-8f04-dd5fa071332c\",\"key\":\"CuQ6m4wvPw2K\",\"path\":\"/\",\"nodeType\":\"file\",\"name\":\"text.pdf\",\"title\":null,\"description\":null,\"size\":28103,\"link\":\"https://file.io/CuQ6m4wvPw2K\",\"private\":false,\"expires\":\"2024-09-04T19:40:50.285Z\",\"downloads\":0,\"maxDownloads\":1,\"autoDelete\":true,\"planId\":0,\"screeningStatus\":\"pending\",\"mimeType\":\"text/plain\",\"created\":\"2024-08-21T19:40:50.285Z\",\"modified\":\"2024-08-21T19:40:50.285Z\"}\n",
      "Uploaded birb.pdf to https://file.io/: {\"success\":true,\"status\":200,\"id\":\"46337b60-5ff5-11ef-8f04-dd5fa071332c\",\"key\":\"oGzTy43mIxod\",\"path\":\"/\",\"nodeType\":\"file\",\"name\":\"birb.pdf\",\"title\":null,\"description\":null,\"size\":264726,\"link\":\"https://file.io/oGzTy43mIxod\",\"private\":false,\"expires\":\"2024-09-04T19:40:52.111Z\",\"downloads\":0,\"maxDownloads\":1,\"autoDelete\":true,\"planId\":0,\"screeningStatus\":\"pending\",\"mimeType\":\"text/plain\",\"created\":\"2024-08-21T19:40:52.111Z\",\"modified\":\"2024-08-21T19:40:52.111Z\"}\n"
     ]
    }
   ],
   "source": [
    "excel_path = folder_path / excel_file\n",
    "df = pd.read_excel(excel_path, dtype={'URL Extension': str})\n",
    "df['URL Extension'] = df['URL Extension'].fillna('')\n",
    "\n",
    "\n",
    "for index, row in df.iterrows():\n",
    "    pdf_name = row['PDF Name'] \n",
    "    pdf_name += '.pdf'\n",
    "\n",
    "\n",
    "    url_extension = row.get('URL Extension', '')  \n",
    "\n",
    "\n",
    "    pdf_path = folder_path / pdf_name\n",
    "    \n",
    "    if pdf_path.exists():\n",
    "        if url_extension and url_extension.strip():\n",
    "            upload_url = site + url_extension\n",
    "        else:\n",
    "            upload_url = site\n",
    "        \n",
    "        with pdf_path.open('rb') as pdf_file:\n",
    "            response = requests.post(upload_url, files={'file': pdf_file})\n",
    "        \n",
    "        print(f\"Uploaded {pdf_name} to {upload_url}: {response.text}\")\n",
    "    else:\n",
    "        print(f\"File {pdf_name} does not exist in the folder {folder_path}\")"
   ]
  },
  {
   "cell_type": "code",
   "execution_count": 21,
   "metadata": {},
   "outputs": [
    {
     "ename": "AttributeError",
     "evalue": "'str' object has no attribute 'shape'",
     "output_type": "error",
     "traceback": [
      "\u001b[1;31m---------------------------------------------------------------------------\u001b[0m",
      "\u001b[1;31mAttributeError\u001b[0m                            Traceback (most recent call last)",
      "Cell \u001b[1;32mIn[21], line 1\u001b[0m\n\u001b[1;32m----> 1\u001b[0m \u001b[43mresponse\u001b[49m\u001b[38;5;241;43m.\u001b[39;49m\u001b[43mtext\u001b[49m\u001b[38;5;241;43m.\u001b[39;49m\u001b[43mshape\u001b[49m()\n",
      "\u001b[1;31mAttributeError\u001b[0m: 'str' object has no attribute 'shape'"
     ]
    }
   ],
   "source": []
  }
 ],
 "metadata": {
  "kernelspec": {
   "display_name": "Python 3",
   "language": "python",
   "name": "python3"
  },
  "language_info": {
   "codemirror_mode": {
    "name": "ipython",
    "version": 3
   },
   "file_extension": ".py",
   "mimetype": "text/x-python",
   "name": "python",
   "nbconvert_exporter": "python",
   "pygments_lexer": "ipython3",
   "version": "3.10.10"
  }
 },
 "nbformat": 4,
 "nbformat_minor": 2
}
